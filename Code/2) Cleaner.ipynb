{
 "cells": [
  {
   "cell_type": "code",
   "execution_count": 2,
   "metadata": {},
   "outputs": [],
   "source": [
    "import pandas as pd\n",
    "import numpy as np\n",
    "import os"
   ]
  },
  {
   "cell_type": "markdown",
   "metadata": {},
   "source": [
    "Importing the raw dataset"
   ]
  },
  {
   "cell_type": "code",
   "execution_count": 7,
   "metadata": {},
   "outputs": [],
   "source": [
    "df_listings = pd.read_csv('/home/ozzy/Documents/CEU/Coding 3 - Python/Project/Data/20210302_raw.csv')"
   ]
  },
  {
   "cell_type": "markdown",
   "metadata": {},
   "source": [
    "Define a new column for the districts of Budapest."
   ]
  },
  {
   "cell_type": "code",
   "execution_count": 5,
   "metadata": {},
   "outputs": [],
   "source": [
    "df_listings[\"kerület\"] = df_listings['Address'].str.split(pat = \", \", expand = True)[1]\n",
    "df_listings[\"kerület\"] = df_listings[\"kerület\"].str.split(pat = \". \", expand = True)[0]"
   ]
  },
  {
   "cell_type": "markdown",
   "metadata": {},
   "source": [
    "The scraping resulted with some duplciate rows. Some of the variables are \"not defined\" as a result. We have to drop the duplicate rows that has the maximum amount of \"not defined\" as a variable."
   ]
  },
  {
   "cell_type": "code",
   "execution_count": 6,
   "metadata": {},
   "outputs": [],
   "source": [
    "df_listings[\"not defined count\"] = df_listings[\"Size\"].str.count(\"not defined\") + df_listings[\"Price\"].str.count(\"not defined\") + df_listings[\"Rooms\"].str.count(\"not defined\") + df_listings[\"Floor\"].str.count(\"not defined\") + df_listings[\"Quality\"].str.count(\"not defined\") + df_listings[\"Inner Height\"].str.count(\"not defined\")  + df_listings[\"Heating\"].str.count(\"not defined\")  + df_listings[\"Furnished\"].str.count(\"not defined\") + df_listings[\"Balcony\"].str.count(\"not defined\") + df_listings[\"Pet\"].str.count(\"not defined\") + df_listings[\"Year Built\"].str.count(\"not defined\") + df_listings[\"Floors\"].str.count(\"not defined\") + df_listings[\"Lift\"].str.count(\"not defined\") + df_listings[\"Lift\"].str.count(\"not defined\") + df_listings[\"Orientation\"].str.count(\"not defined\") + df_listings[\"View\"].str.count(\"not defined\")"
   ]
  },
  {
   "cell_type": "code",
   "execution_count": 7,
   "metadata": {},
   "outputs": [],
   "source": [
    "df_listings = df_listings.drop_duplicates()"
   ]
  },
  {
   "cell_type": "code",
   "execution_count": 8,
   "metadata": {},
   "outputs": [],
   "source": [
    "df_listings = df_listings.sort_values(by='not defined count', ascending=True).groupby(['ID']).first()"
   ]
  },
  {
   "cell_type": "code",
   "execution_count": 11,
   "metadata": {},
   "outputs": [],
   "source": [
    "df_listings = df_listings.reset_index()"
   ]
  },
  {
   "cell_type": "markdown",
   "metadata": {},
   "source": [
    "Cleaning the data. Getting the size variable to become an integer type."
   ]
  },
  {
   "cell_type": "code",
   "execution_count": 24,
   "metadata": {},
   "outputs": [],
   "source": [
    "df_listings['Size'] = df_listings['Size'].str.replace(' m²', '').str.replace(' ', '').astype('int')"
   ]
  },
  {
   "cell_type": "markdown",
   "metadata": {},
   "source": [
    "Same for Price. This time it is set to float."
   ]
  },
  {
   "cell_type": "code",
   "execution_count": 30,
   "metadata": {},
   "outputs": [],
   "source": [
    "df_listings['Price'] = df_listings['Price'].str.replace(' Ft', '').str.replace(' ','').astype('float')"
   ]
  },
  {
   "cell_type": "markdown",
   "metadata": {},
   "source": [
    "Room size on the other hand, has been cleaned and summed up to have a common denominator for all of the listings we have."
   ]
  },
  {
   "cell_type": "code",
   "execution_count": 38,
   "metadata": {},
   "outputs": [],
   "source": [
    "df_listings['Rooms'] = df_listings['Rooms'].str.replace(' fél', '')\n",
    "\n",
    "room_dummy = []\n",
    "\n",
    "for i in range(0,len(df_listings)):\n",
    "    room_dummy.append(eval(df_listings['Rooms'][i]))\n",
    "\n",
    "df_listings['Rooms'] = room_dummy"
   ]
  },
  {
   "cell_type": "markdown",
   "metadata": {},
   "source": [
    "The below is mostly translation and data type transformation."
   ]
  },
  {
   "cell_type": "code",
   "execution_count": 54,
   "metadata": {},
   "outputs": [],
   "source": [
    "df_listings['Floor'] = df_listings['Floor'].str.replace('földszint','0')\n",
    "df_listings['Floor'] = df_listings['Floor'].str.replace('nincs megadva','not defined')\n",
    "df_listings['Floor'] = df_listings['Floor'].str.replace('félemelet','mezzanine')\n",
    "df_listings['Floor'] = df_listings['Floor'].str.replace('szuterén','basement')\n",
    "df_listings['Floor'] = df_listings['Floor'].str.replace('10 felett','over 10')\n",
    "\n",
    "df_listings['Floor'] = df_listings['Floor'].astype('category')"
   ]
  },
  {
   "cell_type": "code",
   "execution_count": 57,
   "metadata": {},
   "outputs": [],
   "source": [
    "df_listings['Quality'] = df_listings['Quality'].str.replace('felújított','renovated')\n",
    "df_listings['Quality'] = df_listings['Quality'].str.replace('jó állapotú','in good condition')\n",
    "df_listings['Quality'] = df_listings['Quality'].str.replace('újszerű','new')\n",
    "df_listings['Quality'] = df_listings['Quality'].str.replace('nincs megadva','not defined')\n",
    "df_listings['Quality'] = df_listings['Quality'].str.replace('új építésű','newly built')\n",
    "df_listings['Quality'] = df_listings['Quality'].str.replace('közepes állapotú','in moderate condition')\n",
    "df_listings['Quality'] = df_listings['Quality'].str.replace('befejezetlen','unfinished')\n",
    "df_listings['Quality'] = df_listings['Quality'].str.replace('felújítandó','to be renovated')\n",
    "\n",
    "df_listings['Quality'] = df_listings['Quality'].astype('category')"
   ]
  },
  {
   "cell_type": "code",
   "execution_count": 61,
   "metadata": {},
   "outputs": [],
   "source": [
    "df_listings['Inner Height'] = df_listings['Inner Height'].str.replace('3 m-nél alacsonyabb','less than 3m')\n",
    "df_listings['Inner Height'] = df_listings['Inner Height'].str.replace('3 m vagy magasabb','more than 3m')\n",
    "df_listings['Inner Height'] = df_listings['Inner Height'].str.replace('nincs megadva','not defined')\n",
    "\n",
    "\n",
    "df_listings['Inner Height'] = df_listings['Inner Height'].astype('category')"
   ]
  },
  {
   "cell_type": "code",
   "execution_count": 71,
   "metadata": {},
   "outputs": [],
   "source": [
    "df_listings['Furnished'] = df_listings['Furnished'].str.replace('megegyezés szerint','by arrangement')\n",
    "df_listings['Furnished'] = df_listings['Furnished'].str.replace('részben bútorozott','partly furnished')\n",
    "df_listings['Furnished'] = df_listings['Furnished'].str.replace('igen','furnished')\n",
    "df_listings['Furnished'] = df_listings['Furnished'].str.replace('nem','not furnished')\n",
    "df_listings['Furnished'] = df_listings['Furnished'].str.replace('nincs megadva','not defined')\n",
    "\n",
    "\n",
    "df_listings['Furnished'] = df_listings['Furnished'].astype('category')"
   ]
  },
  {
   "cell_type": "code",
   "execution_count": 76,
   "metadata": {},
   "outputs": [
    {
     "ename": "AttributeError",
     "evalue": "Can only use .str accessor with string values!",
     "output_type": "error",
     "traceback": [
      "\u001b[0;31m---------------------------------------------------------------------------\u001b[0m",
      "\u001b[0;31mAttributeError\u001b[0m                            Traceback (most recent call last)",
      "\u001b[0;32m<ipython-input-76-5acc75c8804b>\u001b[0m in \u001b[0;36m<module>\u001b[0;34m\u001b[0m\n\u001b[0;32m----> 1\u001b[0;31m \u001b[0mdf_listings\u001b[0m\u001b[0;34m[\u001b[0m\u001b[0;34m'Balcony'\u001b[0m\u001b[0;34m]\u001b[0m \u001b[0;34m=\u001b[0m \u001b[0mdf_listings\u001b[0m\u001b[0;34m[\u001b[0m\u001b[0;34m'Balcony'\u001b[0m\u001b[0;34m]\u001b[0m\u001b[0;34m.\u001b[0m\u001b[0mstr\u001b[0m\u001b[0;34m.\u001b[0m\u001b[0mreplace\u001b[0m\u001b[0;34m(\u001b[0m\u001b[0;34m' m²'\u001b[0m\u001b[0;34m,\u001b[0m \u001b[0;34m''\u001b[0m\u001b[0;34m)\u001b[0m\u001b[0;34m.\u001b[0m\u001b[0mstr\u001b[0m\u001b[0;34m.\u001b[0m\u001b[0mreplace\u001b[0m\u001b[0;34m(\u001b[0m\u001b[0;34m' '\u001b[0m\u001b[0;34m,\u001b[0m \u001b[0;34m''\u001b[0m\u001b[0;34m)\u001b[0m\u001b[0;34m.\u001b[0m\u001b[0mstr\u001b[0m\u001b[0;34m.\u001b[0m\u001b[0mreplace\u001b[0m\u001b[0;34m(\u001b[0m\u001b[0;34m'notdefined'\u001b[0m\u001b[0;34m,\u001b[0m\u001b[0;34m'9999'\u001b[0m\u001b[0;34m)\u001b[0m\u001b[0;34m.\u001b[0m\u001b[0mastype\u001b[0m\u001b[0;34m(\u001b[0m\u001b[0;34m'float'\u001b[0m\u001b[0;34m)\u001b[0m\u001b[0;34m\u001b[0m\u001b[0;34m\u001b[0m\u001b[0m\n\u001b[0m\u001b[1;32m      2\u001b[0m \u001b[0mdf_listings\u001b[0m\u001b[0;34m[\u001b[0m\u001b[0;34m'Balcony'\u001b[0m\u001b[0;34m]\u001b[0m \u001b[0;34m=\u001b[0m \u001b[0mdf_listinge\u001b[0m\u001b[0;34m[\u001b[0m\u001b[0;34m'Balcony'\u001b[0m\u001b[0;34m]\u001b[0m\u001b[0;34m.\u001b[0m\u001b[0mstr\u001b[0m\u001b[0;34m.\u001b[0m\u001b[0mreplace\u001b[0m\u001b[0;34m(\u001b[0m\u001b[0;34m'9999.0'\u001b[0m\u001b[0;34m,\u001b[0m \u001b[0;34m'not defined'\u001b[0m\u001b[0;34m)\u001b[0m\u001b[0;34m\u001b[0m\u001b[0;34m\u001b[0m\u001b[0m\n",
      "\u001b[0;32m~/anaconda3/lib/python3.8/site-packages/pandas/core/generic.py\u001b[0m in \u001b[0;36m__getattr__\u001b[0;34m(self, name)\u001b[0m\n\u001b[1;32m   5133\u001b[0m             \u001b[0;32mor\u001b[0m \u001b[0mname\u001b[0m \u001b[0;32min\u001b[0m \u001b[0mself\u001b[0m\u001b[0;34m.\u001b[0m\u001b[0m_accessors\u001b[0m\u001b[0;34m\u001b[0m\u001b[0;34m\u001b[0m\u001b[0m\n\u001b[1;32m   5134\u001b[0m         ):\n\u001b[0;32m-> 5135\u001b[0;31m             \u001b[0;32mreturn\u001b[0m \u001b[0mobject\u001b[0m\u001b[0;34m.\u001b[0m\u001b[0m__getattribute__\u001b[0m\u001b[0;34m(\u001b[0m\u001b[0mself\u001b[0m\u001b[0;34m,\u001b[0m \u001b[0mname\u001b[0m\u001b[0;34m)\u001b[0m\u001b[0;34m\u001b[0m\u001b[0;34m\u001b[0m\u001b[0m\n\u001b[0m\u001b[1;32m   5136\u001b[0m         \u001b[0;32melse\u001b[0m\u001b[0;34m:\u001b[0m\u001b[0;34m\u001b[0m\u001b[0;34m\u001b[0m\u001b[0m\n\u001b[1;32m   5137\u001b[0m             \u001b[0;32mif\u001b[0m \u001b[0mself\u001b[0m\u001b[0;34m.\u001b[0m\u001b[0m_info_axis\u001b[0m\u001b[0;34m.\u001b[0m\u001b[0m_can_hold_identifiers_and_holds_name\u001b[0m\u001b[0;34m(\u001b[0m\u001b[0mname\u001b[0m\u001b[0;34m)\u001b[0m\u001b[0;34m:\u001b[0m\u001b[0;34m\u001b[0m\u001b[0;34m\u001b[0m\u001b[0m\n",
      "\u001b[0;32m~/anaconda3/lib/python3.8/site-packages/pandas/core/accessor.py\u001b[0m in \u001b[0;36m__get__\u001b[0;34m(self, obj, cls)\u001b[0m\n\u001b[1;32m    185\u001b[0m             \u001b[0;31m# we're accessing the attribute of the class, i.e., Dataset.geo\u001b[0m\u001b[0;34m\u001b[0m\u001b[0;34m\u001b[0m\u001b[0;34m\u001b[0m\u001b[0m\n\u001b[1;32m    186\u001b[0m             \u001b[0;32mreturn\u001b[0m \u001b[0mself\u001b[0m\u001b[0;34m.\u001b[0m\u001b[0m_accessor\u001b[0m\u001b[0;34m\u001b[0m\u001b[0;34m\u001b[0m\u001b[0m\n\u001b[0;32m--> 187\u001b[0;31m         \u001b[0maccessor_obj\u001b[0m \u001b[0;34m=\u001b[0m \u001b[0mself\u001b[0m\u001b[0;34m.\u001b[0m\u001b[0m_accessor\u001b[0m\u001b[0;34m(\u001b[0m\u001b[0mobj\u001b[0m\u001b[0;34m)\u001b[0m\u001b[0;34m\u001b[0m\u001b[0;34m\u001b[0m\u001b[0m\n\u001b[0m\u001b[1;32m    188\u001b[0m         \u001b[0;31m# Replace the property with the accessor object. Inspired by:\u001b[0m\u001b[0;34m\u001b[0m\u001b[0;34m\u001b[0m\u001b[0;34m\u001b[0m\u001b[0m\n\u001b[1;32m    189\u001b[0m         \u001b[0;31m# https://www.pydanny.com/cached-property.html\u001b[0m\u001b[0;34m\u001b[0m\u001b[0;34m\u001b[0m\u001b[0;34m\u001b[0m\u001b[0m\n",
      "\u001b[0;32m~/anaconda3/lib/python3.8/site-packages/pandas/core/strings.py\u001b[0m in \u001b[0;36m__init__\u001b[0;34m(self, data)\u001b[0m\n\u001b[1;32m   2098\u001b[0m \u001b[0;34m\u001b[0m\u001b[0m\n\u001b[1;32m   2099\u001b[0m     \u001b[0;32mdef\u001b[0m \u001b[0m__init__\u001b[0m\u001b[0;34m(\u001b[0m\u001b[0mself\u001b[0m\u001b[0;34m,\u001b[0m \u001b[0mdata\u001b[0m\u001b[0;34m)\u001b[0m\u001b[0;34m:\u001b[0m\u001b[0;34m\u001b[0m\u001b[0;34m\u001b[0m\u001b[0m\n\u001b[0;32m-> 2100\u001b[0;31m         \u001b[0mself\u001b[0m\u001b[0;34m.\u001b[0m\u001b[0m_inferred_dtype\u001b[0m \u001b[0;34m=\u001b[0m \u001b[0mself\u001b[0m\u001b[0;34m.\u001b[0m\u001b[0m_validate\u001b[0m\u001b[0;34m(\u001b[0m\u001b[0mdata\u001b[0m\u001b[0;34m)\u001b[0m\u001b[0;34m\u001b[0m\u001b[0;34m\u001b[0m\u001b[0m\n\u001b[0m\u001b[1;32m   2101\u001b[0m         \u001b[0mself\u001b[0m\u001b[0;34m.\u001b[0m\u001b[0m_is_categorical\u001b[0m \u001b[0;34m=\u001b[0m \u001b[0mis_categorical_dtype\u001b[0m\u001b[0;34m(\u001b[0m\u001b[0mdata\u001b[0m\u001b[0;34m.\u001b[0m\u001b[0mdtype\u001b[0m\u001b[0;34m)\u001b[0m\u001b[0;34m\u001b[0m\u001b[0;34m\u001b[0m\u001b[0m\n\u001b[1;32m   2102\u001b[0m         \u001b[0mself\u001b[0m\u001b[0;34m.\u001b[0m\u001b[0m_is_string\u001b[0m \u001b[0;34m=\u001b[0m \u001b[0mdata\u001b[0m\u001b[0;34m.\u001b[0m\u001b[0mdtype\u001b[0m\u001b[0;34m.\u001b[0m\u001b[0mname\u001b[0m \u001b[0;34m==\u001b[0m \u001b[0;34m\"string\"\u001b[0m\u001b[0;34m\u001b[0m\u001b[0;34m\u001b[0m\u001b[0m\n",
      "\u001b[0;32m~/anaconda3/lib/python3.8/site-packages/pandas/core/strings.py\u001b[0m in \u001b[0;36m_validate\u001b[0;34m(data)\u001b[0m\n\u001b[1;32m   2155\u001b[0m \u001b[0;34m\u001b[0m\u001b[0m\n\u001b[1;32m   2156\u001b[0m         \u001b[0;32mif\u001b[0m \u001b[0minferred_dtype\u001b[0m \u001b[0;32mnot\u001b[0m \u001b[0;32min\u001b[0m \u001b[0mallowed_types\u001b[0m\u001b[0;34m:\u001b[0m\u001b[0;34m\u001b[0m\u001b[0;34m\u001b[0m\u001b[0m\n\u001b[0;32m-> 2157\u001b[0;31m             \u001b[0;32mraise\u001b[0m \u001b[0mAttributeError\u001b[0m\u001b[0;34m(\u001b[0m\u001b[0;34m\"Can only use .str accessor with string values!\"\u001b[0m\u001b[0;34m)\u001b[0m\u001b[0;34m\u001b[0m\u001b[0;34m\u001b[0m\u001b[0m\n\u001b[0m\u001b[1;32m   2158\u001b[0m         \u001b[0;32mreturn\u001b[0m \u001b[0minferred_dtype\u001b[0m\u001b[0;34m\u001b[0m\u001b[0;34m\u001b[0m\u001b[0m\n\u001b[1;32m   2159\u001b[0m \u001b[0;34m\u001b[0m\u001b[0m\n",
      "\u001b[0;31mAttributeError\u001b[0m: Can only use .str accessor with string values!"
     ]
    }
   ],
   "source": [
    "df_listings['Balcony'] = df_listings['Balcony'].str.replace(' m²', '').str.replace(' ', '').str.replace('notdefined','9999').astype('float')\n",
    "\n",
    "for i in range(0, len(df_listings)):\n",
    "    if df_listings['Balcony'][i] == 9999\n",
    "       df_listings['Balcony'][i] = 'not defined'"
   ]
  },
  {
   "cell_type": "code",
   "execution_count": 92,
   "metadata": {},
   "outputs": [],
   "source": [
    "df_listings['Pet'] = df_listings['Pet'].str.replace('nem hozható','not allowed')\n",
    "df_listings['Pet'] = df_listings['Pet'].str.replace('hozható','allowed')\n",
    "df_listings['Pet'] = df_listings['Pet'].str.replace('nincs megadva','not defined')\n",
    "\n",
    "\n",
    "df_listings['Pet'] = df_listings['Pet'].astype('category')"
   ]
  },
  {
   "cell_type": "code",
   "execution_count": 95,
   "metadata": {},
   "outputs": [],
   "source": [
    "df_listings['Year Built'] = df_listings['Year Built'].str.replace('2001-2010 között','between 2001-2010')\n",
    "df_listings['Year Built'] = df_listings['Year Built'].str.replace('1950-1980 között','between 1950-1980')\n",
    "df_listings['Year Built'] = df_listings['Year Built'].str.replace('1981-2000 között','between 1981-2000')\n",
    "df_listings['Year Built'] = df_listings['Year Built'].str.replace('1950 előtt','before 1950')\n",
    "\n",
    "df_listings['Year Built'] = df_listings['Year Built'].astype('category')"
   ]
  },
  {
   "cell_type": "code",
   "execution_count": 98,
   "metadata": {},
   "outputs": [],
   "source": [
    "df_listings['Floors'] = df_listings['Floors'].str.replace('nincs megadva','not defined')\n",
    "df_listings['Floors'] = df_listings['Floors'].str.replace('több mint 10','more than 10')\n",
    "df_listings['Floors'] = df_listings['Floors'].str.replace('földszintes','1')\n",
    "\n",
    "df_listings['Floors'] = df_listings['Floors'].astype('category')"
   ]
  },
  {
   "cell_type": "code",
   "execution_count": 100,
   "metadata": {},
   "outputs": [],
   "source": [
    "df_listings['Lift'] = df_listings['Lift'].str.replace('nincs megadva','not defined')\n",
    "df_listings['Lift'] = df_listings['Lift'].str.replace('van','yes')\n",
    "df_listings['Lift'] = df_listings['Lift'].str.replace('nincs','no')\n",
    "\n",
    "df_listings['Lift'] = df_listings['Lift'].astype('category')"
   ]
  },
  {
   "cell_type": "code",
   "execution_count": 120,
   "metadata": {},
   "outputs": [],
   "source": [
    "df_listings['Orientation'] = df_listings['Orientation'].str.replace('nincs megadva','not defined')\n",
    "df_listings['Orientation'] = df_listings['Orientation'].str.replace('délnyugat','south west')\n",
    "df_listings['Orientation'] = df_listings['Orientation'].str.replace('északkelet','north east')\n",
    "df_listings['Orientation'] = df_listings['Orientation'].str.replace('nyugat','west')\n",
    "df_listings['Orientation'] = df_listings['Orientation'].str.replace('délkelet','south east')\n",
    "df_listings['Orientation'] = df_listings['Orientation'].str.replace('dél','south')\n",
    "df_listings['Orientation'] = df_listings['Orientation'].str.replace('kelet','east')\n",
    "df_listings['Orientation'] = df_listings['Orientation'].str.replace('északnyugat','north west')\n",
    "df_listings['Orientation'] = df_listings['Orientation'].str.replace('észak','north')\n",
    "\n",
    "df_listings['Orientation'] = df_listings['Orientation'].astype('category')"
   ]
  },
  {
   "cell_type": "code",
   "execution_count": 122,
   "metadata": {},
   "outputs": [],
   "source": [
    "df_listings['View'] = df_listings['View'].str.replace('nincs megadva','not defined')\n",
    "df_listings['View'] = df_listings['View'].str.replace('panorámás','panoramic')\n",
    "df_listings['View'] = df_listings['View'].str.replace('kertre néző','garden')\n",
    "df_listings['View'] = df_listings['View'].str.replace('utcai','street')\n",
    "df_listings['View'] = df_listings['View'].str.replace('udvari','courtyard')\n",
    "\n",
    "df_listings['View'] = df_listings['View'].astype('category')"
   ]
  },
  {
   "cell_type": "code",
   "execution_count": 125,
   "metadata": {},
   "outputs": [],
   "source": [
    "df_listings['kerület'] = df_listings['kerület'].astype('category')"
   ]
  },
  {
   "cell_type": "code",
   "execution_count": 131,
   "metadata": {},
   "outputs": [],
   "source": [
    "del df_listings['not defined count']"
   ]
  },
  {
   "cell_type": "markdown",
   "metadata": {},
   "source": [
    "Writing the end result into a csv so that we can keep work on it."
   ]
  },
  {
   "cell_type": "code",
   "execution_count": 133,
   "metadata": {},
   "outputs": [],
   "source": [
    "df_listings.to_csv(\"/home/ozzy/Documents/CEU/Coding 3 - Python/Project/Data/20210302_clean.csv\", index = False)"
   ]
  }
 ],
 "metadata": {
  "kernelspec": {
   "display_name": "Python 3",
   "language": "python",
   "name": "python3"
  },
  "language_info": {
   "codemirror_mode": {
    "name": "ipython",
    "version": 3
   },
   "file_extension": ".py",
   "mimetype": "text/x-python",
   "name": "python",
   "nbconvert_exporter": "python",
   "pygments_lexer": "ipython3",
   "version": "3.8.5"
  }
 },
 "nbformat": 4,
 "nbformat_minor": 4
}
